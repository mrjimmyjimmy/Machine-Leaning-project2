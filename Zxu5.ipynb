{
 "cells": [
  {
   "cell_type": "markdown",
   "metadata": {},
   "source": [
    "# COMP90051 Project 2"
   ]
  },
  {
   "cell_type": "code",
   "execution_count": 2,
   "metadata": {},
   "outputs": [],
   "source": [
    "# Do not edit. These are the only imports permitted.\n",
    "%matplotlib inline\n",
    "import numpy as np\n",
    "from numpy.linalg import inv\n",
    "import matplotlib.pyplot as plt\n",
    "from abc import ABC, abstractmethod"
   ]
  },
  {
   "cell_type": "markdown",
   "metadata": {},
   "source": [
    "## 1. Implement ε-Greedy and UCB"
   ]
  },
  {
   "cell_type": "code",
   "execution_count": 3,
   "metadata": {},
   "outputs": [],
   "source": [
    "class MAB(ABC):\n",
    "    \"\"\"\n",
    "    Abstract class that represents a multi-armed bandit (MAB)\n",
    "    \"\"\"\n",
    "    \n",
    "    @abstractmethod\n",
    "    def play(self, tround, context):\n",
    "        \"\"\"\n",
    "        abstractmethod\n",
    "        \"\"\"\n",
    "    \n",
    "    def update(self, arm, reward, context):\n",
    "        '''\n",
    "        get the average reward\n",
    "        :param arm: NO. of arm\n",
    "        :param reward: current reward\n",
    "        :return: average reward\n",
    "        '''\n",
    "        # first round just sign with reward\n",
    "        if self.values[arm] == self.Q0:\n",
    "            self.values[arm] = reward\n",
    "        else:\n",
    "            self.values[arm] = (self.values[arm] * self.pullTime[arm] + reward) / (self.pullTime[arm] + 1)\n",
    "        self.pullTime[arm] += 1"
   ]
  },
  {
   "cell_type": "markdown",
   "metadata": {},
   "source": [
    "e-greedy method"
   ]
  },
  {
   "cell_type": "code",
   "execution_count": 4,
   "metadata": {},
   "outputs": [],
   "source": [
    "class EpsGreedy(MAB):\n",
    "\n",
    "    def __init__(self, narms, epsilon, Q0=np.inf):\n",
    "        self.narms = narms\n",
    "        self.epsilon = epsilon\n",
    "        self.Q0 = Q0\n",
    "        # pullTime[i] means The number of times the rod 'i' was pulled\n",
    "        self.pullTime = np.zeros(narms)\n",
    "        self.values = np.full(narms, Q0)\n",
    "\n",
    "    def play(self, tround, context=None):\n",
    "        '''\n",
    "        Each time you play, you will draw a random number from 0 to 1.\n",
    "        If the number is greater than 'e', play the lever that you think the winning probability is the largest.\n",
    "        If it is less than ε, then randomly select a lever.\n",
    "        After getting the result, update the estimated winning probability of the lever to facilitate the next selection.\n",
    "        :param tround: rounds to play\n",
    "        :return: best arm\n",
    "        '''\n",
    "        num_random = np.random.random()\n",
    "        if num_random > self.epsilon:\n",
    "            return np.argmax(self.values)\n",
    "        else:\n",
    "            return self.get_random_arm()\n",
    "\n",
    "    def get_random_arm(self):\n",
    "        '''\n",
    "        get a random arm\n",
    "        '''\n",
    "        random_choice = np.random.choice(self.narms)\n",
    "        return random_choice"
   ]
  },
  {
   "cell_type": "markdown",
   "metadata": {},
   "source": [
    "UCB"
   ]
  },
  {
   "cell_type": "code",
   "execution_count": 5,
   "metadata": {},
   "outputs": [],
   "source": [
    "class UCB(MAB):\n",
    "\n",
    "    def __init__(self, narms, rho, Q0=np.inf):\n",
    "        self.narms = narms\n",
    "        self.rho = rho\n",
    "        self.Q0 = Q0\n",
    "        # pullTime[i] means The number of times the rod 'i' was pulled\n",
    "        self.pullTime = np.zeros(narms)\n",
    "        self.values = np.full(narms, Q0)\n",
    "\n",
    "\n",
    "    def play(self, tround, context=None):\n",
    "        '''\n",
    "        choose the best arm when X + Y get the highest score,\n",
    "        X = average of rewards of an arm\n",
    "        Y = UCB score\n",
    "        :return: best arm\n",
    "        '''\n",
    "        values = [0] * self.narms\n",
    "        for i in range(self.narms):\n",
    "            # first round just sign with reward\n",
    "            if self.values[i] == self.Q0:\n",
    "                values[i] = self.Q0\n",
    "            else:\n",
    "                values[i] = self.max_value(self.values[i], tround, self.pullTime[i])\n",
    "        return np.argmax(values)\n",
    "\n",
    "    def max_value(self, averageValue, tround, pullTimes):\n",
    "        '''\n",
    "        apply UCB formula here\n",
    "        :param averageValue: average of rewards of an arm\n",
    "        :param tround: rounds to play\n",
    "        :param pullTimes: how many times is an arm pulled\n",
    "        :return: maxValue\n",
    "        '''\n",
    "        bonus = np.sqrt(self.rho * np.log(tround) / pullTimes)\n",
    "        maxValue = averageValue + bonus\n",
    "        return maxValue"
   ]
  },
  {
   "cell_type": "markdown",
   "metadata": {},
   "source": [
    "## 2. Off-Policy Evaluation"
   ]
  },
  {
   "cell_type": "code",
   "execution_count": 6,
   "metadata": {},
   "outputs": [],
   "source": [
    "def read_data(filename):\n",
    "    ''' get arms, rewards and context from dataset'''\n",
    "    data = np.loadtxt(filename)\n",
    "    arms = data[:,0] # which arm you choose\n",
    "    rewards = data[:,1] # the reward for choosing the arm\n",
    "    contexts = data[:,2:] # features\n",
    "    return arms, rewards, contexts"
   ]
  },
  {
   "cell_type": "code",
   "execution_count": 7,
   "metadata": {},
   "outputs": [],
   "source": [
    "def offlineEvaluate(mab, arms, rewards, contexts, nrounds):\n",
    "    '''\n",
    "    keep playing until the mab match with the data event\n",
    "    :param mab: MAB method\n",
    "    :param arms: the arm pulled\n",
    "    :param rewards: the reward for pulling the arm\n",
    "    :param contexts: features\n",
    "    :param nrounds: how many rounds you play\n",
    "    :return: a list of rewards\n",
    "    '''\n",
    "    \n",
    "    currReward = [] # store current reward\n",
    "    curr = 0 # record the matching process \n",
    "\n",
    "    for i in range(nrounds):\n",
    "        # match for mab and data event\n",
    "        while (not match(i, curr)):\n",
    "            curr +=1\n",
    "        currReward.append(rewards[curr])\n",
    "        mab.update(int(arms[curr]) - 1, rewards[curr], contexts[curr])\n",
    "        curr += 1\n",
    "    return currReward\n",
    "\n",
    "def match(i, curr):\n",
    "    '''\n",
    "    to see whether match or not\n",
    "    '''\n",
    "    if (mab.play(i, contexts[curr]) == int(arms[curr]) - 1):\n",
    "        return True\n",
    "    else:\n",
    "        return False\n",
    "\n",
    "\n",
    "    "
   ]
  },
  {
   "cell_type": "markdown",
   "metadata": {},
   "source": [
    "Read data from dataset"
   ]
  },
  {
   "cell_type": "code",
   "execution_count": 8,
   "metadata": {},
   "outputs": [],
   "source": [
    "arms, rewards, contexts = read_data('dataset.txt')"
   ]
  },
  {
   "cell_type": "code",
   "execution_count": 9,
   "metadata": {},
   "outputs": [
    {
     "name": "stdout",
     "output_type": "stream",
     "text": [
      "EpsGreedy average reward 0.14\n"
     ]
    }
   ],
   "source": [
    "mab = EpsGreedy(10, 0.05)\n",
    "results_EpsGreedy = offlineEvaluate(mab, arms, rewards, contexts, 800)\n",
    "print('EpsGreedy average reward', np.mean(results_EpsGreedy))"
   ]
  },
  {
   "cell_type": "code",
   "execution_count": 10,
   "metadata": {},
   "outputs": [
    {
     "name": "stdout",
     "output_type": "stream",
     "text": [
      "UCB average reward 0.17625\n"
     ]
    }
   ],
   "source": [
    "mab = UCB(10, 1.0)\n",
    "results_UCB = offlineEvaluate(mab, arms, rewards, contexts, 800)\n",
    "print('UCB average reward', np.mean(results_UCB))"
   ]
  },
  {
   "cell_type": "markdown",
   "metadata": {},
   "source": [
    "## 3. Contextual Bandits"
   ]
  },
  {
   "cell_type": "code",
   "execution_count": 11,
   "metadata": {},
   "outputs": [],
   "source": [
    "class LinUCB(MAB):\n",
    "\n",
    "    def __init__(self, narms, ndims, alpha):\n",
    "        self.narms = narms\n",
    "        self.ndims = ndims\n",
    "        self.alpha = alpha\n",
    "\n",
    "        self.Aa = [np.identity(ndims)] * narms # Aa : collection of matrix to compute disjoint part for each article a, d*d\n",
    "        self.ba = [np.zeros(ndims)] * narms # ba : collection of vectors to compute disjoin part, d*1\n",
    "        self.AaI = np.linalg.inv(self.Aa) # AaI : store the inverse of all Aa matrix\n",
    "\n",
    "\n",
    "    def play(self, tround, context):\n",
    "        '''\n",
    "        Implement steps 8-11.\n",
    "        We directly calculate the current optimal parameter and the confidence upper bound according to the formula,\n",
    "        and select the largest arm as the recommendation result.\n",
    "        There is a small trick in the code, and for all the arms,\n",
    "        a feature is used together, instead of using different features for each arm separately\n",
    "        :param tround: number of rounds we play\n",
    "        :return: best arm\n",
    "        '''\n",
    "        payOffs = [0] * self.narms\n",
    "        for i in range(self.narms):\n",
    "            x = self.get_arm_d(i, context)\n",
    "            theta = self.AaI[i] @ self.ba[i]\n",
    "            payOffs[i] = (x.T @ theta) + np.sqrt(x.T @ self.AaI[i] @ x) * self.alpha\n",
    "        return np.argmax(payOffs)\n",
    "\n",
    "    def update(self, arm, reward, context):\n",
    "        '''\n",
    "        This corresponds to steps 12-13 in article.\n",
    "        Based on the selected optimal arm and the resulting user feedback,\n",
    "        we update the A and b matrices:\n",
    "        '''\n",
    "        if reward == 1:\n",
    "            x = self.get_arm_d(arm, context)\n",
    "            self.Aa[arm] = self.Aa[arm] + x @ x.T\n",
    "            self.ba[arm] = self.ba[arm] + x\n",
    "\n",
    "    def get_arm_d(self, arm, context):\n",
    "        '''\n",
    "        :param arm: current arm\n",
    "        :param context: context for current arm\n",
    "        :return: a sub-list of context, which length = n_dimensional\n",
    "        '''\n",
    "        features = context[arm * self.ndims : arm * self.ndims + self.ndims]\n",
    "        return features\n"
   ]
  },
  {
   "cell_type": "code",
   "execution_count": 123,
   "metadata": {},
   "outputs": [
    {
     "name": "stdout",
     "output_type": "stream",
     "text": [
      "LinUCB average reward 0.25375\n"
     ]
    }
   ],
   "source": [
    "mab = LinUCB(10, 10, 1)\n",
    "results_LinUCB = offlineEvaluate(mab, arms, rewards, contexts, 800)\n",
    "print('LinUCB average reward', np.mean(results_LinUCB))"
   ]
  },
  {
   "cell_type": "markdown",
   "metadata": {},
   "source": [
    "## 4. Evaluation\n",
    "### 4.A."
   ]
  },
  {
   "cell_type": "code",
   "execution_count": 40,
   "metadata": {},
   "outputs": [
    {
     "data": {
      "image/png": "[encoded data removed]",
      "text/plain": [
       "<Figure size 432x288 with 1 Axes>"
      ]
     },
     "metadata": {},
     "output_type": "display_data"
    }
   ],
   "source": [
    "def result1(result):\n",
    "    mab = [0]* len(result)\n",
    "    for i in range(len(result)):\n",
    "        mab[i] = sum(result[:i])/(i+1)\n",
    "    return mab\n",
    "\n",
    "plt.plot(result1(results_EpsGreedy), label=\"e-Greedy\")\n",
    "plt.plot(result1(results_UCB), label=\"UCB\")\n",
    "plt.plot(result1(results_LinUCB), label=\"LinUCB\")\n",
    "plt.xlabel(\"Rounds\")\n",
    "plt.ylabel(\"Cummulative reward\")\n",
    "plt.legend()\n",
    "plt.show()"
   ]
  },
  {
   "cell_type": "markdown",
   "metadata": {},
   "source": [
    "### 4.B."
   ]
  },
  {
   "cell_type": "code",
   "execution_count": 141,
   "metadata": {},
   "outputs": [
    {
     "name": "stdout",
     "output_type": "stream",
     "text": [
      "a is  0.05 reward is  0.19125\n",
      "a is  0.1 reward is  0.1925\n",
      "a is  0.15 reward is  0.25\n",
      "a is  0.2 reward is  0.25\n",
      "a is  0.25 reward is  0.25\n",
      "a is  0.3 reward is  0.24875\n",
      "a is  0.35 reward is  0.25\n",
      "a is  0.4 reward is  0.25\n",
      "a is  0.45 reward is  0.25125\n",
      "a is  0.5 reward is  0.25125\n",
      "a is  0.55 reward is  0.2525\n",
      "a is  0.6 reward is  0.25\n",
      "a is  0.65 reward is  0.25\n",
      "a is  0.7 reward is  0.2525\n",
      "a is  0.75 reward is  0.25375\n",
      "a is  0.8 reward is  0.25375\n",
      "a is  0.85 reward is  0.25375\n",
      "a is  0.9 reward is  0.25375\n",
      "a is  0.95 reward is  0.25375\n",
      "a is  1.0 reward is  0.25375\n"
     ]
    },
    {
     "data": {
      "image/png": "[encoded data removed]",
      "text/plain": [
       "<Figure size 432x288 with 1 Axes>"
      ]
     },
     "metadata": {},
     "output_type": "display_data"
    }
   ],
   "source": [
    "\n",
    "# mab = LinUCB(10, 10, 0.1)\n",
    "def exp_lin(mab):\n",
    "    return np.mean(offlineEvaluate(mab, arms, rewards, contexts, 800))\n",
    "r = []\n",
    "for i in range(20):\n",
    "    j = (i+1)/20\n",
    "    mab = LinUCB(10, 10, j)\n",
    "    result = exp_lin(mab)\n",
    "    print ('a is ',j, 'reward is ',result)\n",
    "    r.append(result)\n",
    "plt.plot(r)\n",
    "plt.xlabel(\"a*20\")\n",
    "plt.ylabel(\"reward\")\n",
    "plt.show()\n"
   ]
  },
  {
   "cell_type": "markdown",
   "metadata": {},
   "source": [
    "So best a is choosen from {0.75 - 1.00}"
   ]
  },
  {
   "cell_type": "markdown",
   "metadata": {},
   "source": [
    "## 5. KernelUCB"
   ]
  },
  {
   "cell_type": "code",
   "execution_count": null,
   "metadata": {},
   "outputs": [],
   "source": [
    "# Do not edit. Special import for this section.\n",
    "from sklearn.metrics.pairwise import rbf_kernel"
   ]
  },
  {
   "cell_type": "code",
   "execution_count": null,
   "metadata": {},
   "outputs": [],
   "source": [
    "class KernelUCB(MAB):\n",
    "    \"\"\"\n",
    "    Kernelised contextual multi-armed bandit (Kernelised LinUCB)\n",
    "    \n",
    "    Arguments\n",
    "    =========\n",
    "    narms : int\n",
    "        number of arms\n",
    "\n",
    "    ndims : int\n",
    "        number of dimensions for each arm's context\n",
    "\n",
    "    gamma : float\n",
    "        positive real explore-exploit parameter\n",
    "    \n",
    "    eta : float\n",
    "        positive real explore-exploit parameter\n",
    "    \n",
    "    kern : callable\n",
    "        a kernel function from sklearn.metrics.pairwise\n",
    "    \"\"\"\n",
    "    def __init__(self, narms, ndims, gamma, eta, kern):\n",
    "        \n",
    "    \n",
    "    def play(self, tround, context):\n",
    "        \n",
    "    \n",
    "    def update(self, arm, reward, context):\n",
    "        \n",
    "    "
   ]
  }
 ],
 "metadata": {
  "kernelspec": {
   "display_name": "Python 3",
   "language": "python",
   "name": "python3"
  },
  "language_info": {
   "codemirror_mode": {
    "name": "ipython",
    "version": 3
   },
   "file_extension": ".py",
   "mimetype": "text/x-python",
   "name": "python",
   "nbconvert_exporter": "python",
   "pygments_lexer": "ipython3",
   "version": "3.6.5"
  }
 },
 "nbformat": 4,
 "nbformat_minor": 2
}
